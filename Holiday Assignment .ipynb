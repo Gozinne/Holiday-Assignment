{
 "cells": [
  {
   "cell_type": "markdown",
   "id": "f0bb9e11",
   "metadata": {},
   "source": [
    "# EXERCISE 1.5"
   ]
  },
  {
   "cell_type": "code",
   "execution_count": 1,
   "id": "e394086f",
   "metadata": {},
   "outputs": [
    {
     "name": "stdout",
     "output_type": "stream",
     "text": [
      "\ta\tb\tc\n"
     ]
    }
   ],
   "source": [
    "print(\"\\ta\\tb\\tc\")"
   ]
  },
  {
   "cell_type": "code",
   "execution_count": 2,
   "id": "1401d523",
   "metadata": {},
   "outputs": [
    {
     "name": "stdout",
     "output_type": "stream",
     "text": [
      "\\\\\n"
     ]
    }
   ],
   "source": [
    "print(\"\\\\\\\\\")"
   ]
  },
  {
   "cell_type": "code",
   "execution_count": 3,
   "id": "8b74d191",
   "metadata": {},
   "outputs": [
    {
     "name": "stdout",
     "output_type": "stream",
     "text": [
      "'\n"
     ]
    }
   ],
   "source": [
    "print(\"'\")"
   ]
  },
  {
   "cell_type": "code",
   "execution_count": 4,
   "id": "379d669b",
   "metadata": {},
   "outputs": [
    {
     "name": "stdout",
     "output_type": "stream",
     "text": [
      "\"\"\"\n"
     ]
    }
   ],
   "source": [
    "print(\"\\\"\\\"\\\"\")"
   ]
  },
  {
   "cell_type": "code",
   "execution_count": 5,
   "id": "f0fbd362",
   "metadata": {},
   "outputs": [
    {
     "name": "stdout",
     "output_type": "stream",
     "text": [
      "C:\n",
      "in\the downward spiral\n"
     ]
    }
   ],
   "source": [
    "print(\"C:\\nin\\the downward spiral\")"
   ]
  },
  {
   "cell_type": "code",
   "execution_count": 31,
   "id": "9fe65ab2",
   "metadata": {},
   "outputs": [
    {
     "name": "stdout",
     "output_type": "stream",
     "text": [
      "/ \\ // \\\\ /// \\\\\\\n"
     ]
    }
   ],
   "source": [
    "print('/ \\\\ // \\\\\\\\ /// \\\\\\\\\\\\')"
   ]
  },
  {
   "cell_type": "code",
   "execution_count": 35,
   "id": "36f50d71",
   "metadata": {},
   "outputs": [
    {
     "name": "stdout",
     "output_type": "stream",
     "text": [
      "This quote is from Irish poet Oscar Wilde:\n",
      "      \"Music makes one feel so romantic\n",
      "     - at least it always gets on one's nerves – \n",
      "     which is the same thing nowadays.\"\n"
     ]
    }
   ],
   "source": [
    "print('''This quote is from Irish poet Oscar Wilde:\n",
    "      \"Music makes one feel so romantic\n",
    "     - at least it always gets on one's nerves – \n",
    "     which is the same thing nowadays.\"''')"
   ]
  },
  {
   "cell_type": "code",
   "execution_count": 36,
   "id": "593623fc",
   "metadata": {},
   "outputs": [
    {
     "name": "stdout",
     "output_type": "stream",
     "text": [
      "A \"quoted\" String is 'much' better if you learn\n",
      "\n",
      "the rules of \"escape sequences.\" Also, \"\" represents an empty String. Don't forget: use \" instead of \" ! '' is not the same as\n"
     ]
    }
   ],
   "source": [
    "print('''A \"quoted\" String is 'much' better if you learn\n",
    "\n",
    "the rules of \"escape sequences.\" Also, \"\" represents an empty String. Don't forget: use \\\" instead of \" ! '' is not the same as''')"
   ]
  },
  {
   "cell_type": "code",
   "execution_count": 40,
   "id": "751231b7",
   "metadata": {},
   "outputs": [
    {
     "name": "stdout",
     "output_type": "stream",
     "text": [
      "1.8\n"
     ]
    }
   ],
   "source": [
    "print(9 / 5)"
   ]
  },
  {
   "cell_type": "code",
   "execution_count": 42,
   "id": "882950a0",
   "metadata": {},
   "outputs": [
    {
     "name": "stdout",
     "output_type": "stream",
     "text": [
      "15\n"
     ]
    }
   ],
   "source": [
    "print(695 % 20)"
   ]
  },
  {
   "cell_type": "code",
   "execution_count": 43,
   "id": "0259b4ca",
   "metadata": {},
   "outputs": [
    {
     "name": "stdout",
     "output_type": "stream",
     "text": [
      "37\n"
     ]
    }
   ],
   "source": [
    "print(7 + 6 * 5)"
   ]
  },
  {
   "cell_type": "code",
   "execution_count": 44,
   "id": "b542d049",
   "metadata": {},
   "outputs": [
    {
     "name": "stdout",
     "output_type": "stream",
     "text": [
      "47\n"
     ]
    }
   ],
   "source": [
    "print(7 * 6 + 5)"
   ]
  },
  {
   "cell_type": "code",
   "execution_count": 45,
   "id": "e05edfb1",
   "metadata": {},
   "outputs": [
    {
     "name": "stdout",
     "output_type": "stream",
     "text": [
      "9.6\n"
     ]
    }
   ],
   "source": [
    "print(248 % 100 / 5)"
   ]
  },
  {
   "cell_type": "code",
   "execution_count": 46,
   "id": "962ff2e2",
   "metadata": {},
   "outputs": [
    {
     "name": "stdout",
     "output_type": "stream",
     "text": [
      "15.75\n"
     ]
    }
   ],
   "source": [
    "print(6 * 3 - 9 / 4)"
   ]
  },
  {
   "cell_type": "code",
   "execution_count": 47,
   "id": "710470fe",
   "metadata": {},
   "outputs": [
    {
     "name": "stdout",
     "output_type": "stream",
     "text": [
      "-8\n"
     ]
    }
   ],
   "source": [
    "print((5 - 7) * 4)"
   ]
  },
  {
   "cell_type": "code",
   "execution_count": 48,
   "id": "38039cfc",
   "metadata": {},
   "outputs": [
    {
     "name": "stdout",
     "output_type": "stream",
     "text": [
      "9\n"
     ]
    }
   ],
   "source": [
    "print(6 + (18 % (17 - 12)))"
   ]
  },
  {
   "cell_type": "markdown",
   "id": "dcb1f7e6",
   "metadata": {},
   "source": [
    "# EXERCISE 3.4"
   ]
  },
  {
   "cell_type": "code",
   "execution_count": 49,
   "id": "e7ec8216",
   "metadata": {},
   "outputs": [
    {
     "name": "stdout",
     "output_type": "stream",
     "text": [
      "The maximum value in the list is: 23\n"
     ]
    }
   ],
   "source": [
    "def find_maximum(lst):\n",
    "    # Assuming the list contains at least one element\n",
    "    max_value = lst[0] \n",
    "    # Start max_value with the first element\n",
    "\n",
    "    # Go through the list to find the maximum value\n",
    "    for num in lst:\n",
    "        if num > max_value:\n",
    "            max_value = num\n",
    "\n",
    "    return max_value\n",
    "\n",
    "# Given list\n",
    "user_list = [2, 4, 7, 4, 23, 5, 1, 4, 8, 9]\n",
    "\n",
    "# Find the maximum value\n",
    "maximum_value = find_maximum(user_list)\n",
    "\n",
    "# Display the result\n",
    "print(\"The maximum value in the list is:\", maximum_value)\n",
    "\n"
   ]
  },
  {
   "cell_type": "code",
   "execution_count": 1,
   "id": "2bfc550d",
   "metadata": {},
   "outputs": [
    {
     "name": "stdout",
     "output_type": "stream",
     "text": [
      "The maximum value in the list is: 23\n"
     ]
    }
   ],
   "source": [
    "# Given list\n",
    "user_list = [2, 4, 7, 4, 23, 5, 1, 4, 8, 9]\n",
    "\n",
    "# Find the maximum value using the max function\n",
    "maximum_value = max(user_list)\n",
    "\n",
    "# Display the result\n",
    "print(\"The maximum value in the list is:\", maximum_value)\n"
   ]
  },
  {
   "cell_type": "code",
   "execution_count": 4,
   "id": "b807fa36",
   "metadata": {},
   "outputs": [
    {
     "name": "stdout",
     "output_type": "stream",
     "text": [
      "The average value of the list is: 24.6\n"
     ]
    }
   ],
   "source": [
    "# Given list\n",
    "user_list = [4, 7, 1, 5, 11, 53, 12, 46, 84, 23]\n",
    "\n",
    "# Calculate the average\n",
    "average_value = sum(user_list) / len(user_list)\n",
    "\n",
    "# Display the result\n",
    "print(\"The average value of the list is:\", average_value)\n"
   ]
  },
  {
   "cell_type": "code",
   "execution_count": 5,
   "id": "0df7677f",
   "metadata": {},
   "outputs": [
    {
     "name": "stdout",
     "output_type": "stream",
     "text": [
      "The reverse order of the list is: [2, 6, 7, 45, 23, 53, 14, 45, 89, 5]\n"
     ]
    }
   ],
   "source": [
    "# Given list\n",
    "user_list = [2, 6, 7, 45, 23, 53, 14, 45, 89, 5]\n",
    "\n",
    "#Prints user_list in reverse order\n",
    "reverse_value = (user_list) \n",
    "# Display the result\n",
    "print(\"The reverse order of the list is:\",reverse_value)"
   ]
  },
  {
   "cell_type": "code",
   "execution_count": 6,
   "id": "1c813302",
   "metadata": {},
   "outputs": [
    {
     "name": "stdout",
     "output_type": "stream",
     "text": [
      "The reverse order of the list is: [5, 89, 45, 14, 53, 23, 45, 7, 6, 2]\n"
     ]
    }
   ],
   "source": [
    "# Given list\n",
    "user_list = [2, 6, 7, 45, 23, 53, 14, 45, 89, 5]\n",
    "\n",
    "# Reverse the list\n",
    "reverse_value = user_list[::-1]\n",
    "\n",
    "# Display the result\n",
    "print(\"The reverse order of the list is:\", reverse_value)\n"
   ]
  },
  {
   "cell_type": "code",
   "execution_count": 9,
   "id": "d492bb7e",
   "metadata": {},
   "outputs": [
    {
     "name": "stdout",
     "output_type": "stream",
     "text": [
      "True\n"
     ]
    }
   ],
   "source": [
    "def compare_lists(list1, list2):\n",
    "    # Check if the lists are of the same length\n",
    "    if len(list1) != len(list2):\n",
    "        return False\n",
    "\n",
    "    # Compare each element in the first list with the corresponding element in the second list\n",
    "    for i in range(len(list1)):\n",
    "        if list1[i] >= list2[i]:\n",
    "            return False\n",
    "\n",
    "    # If all elements pass the comparison, return True\n",
    "    return True\n",
    "\n",
    "# Example usage:\n",
    "list1 = [3, 6, 2, 4, 23, 53, 14, 35, 79, 5]\n",
    "list2 = [4, 8, 9, 6, 24, 54, 15, 56, 90, 6]\n",
    "\n",
    "result = compare_lists(list1, list2)\n",
    "\n",
    "# Display the result\n",
    "print(result)\n"
   ]
  },
  {
   "cell_type": "code",
   "execution_count": 10,
   "id": "d2c49638",
   "metadata": {},
   "outputs": [
    {
     "name": "stdout",
     "output_type": "stream",
     "text": [
      "Original list: [3, 6, 2, 4, 23, 53, 14, 35, 79, 5]\n",
      "List after swapping elements at indexes 2 and 7: [3, 6, 35, 4, 23, 53, 14, 2, 79, 5]\n"
     ]
    }
   ],
   "source": [
    "def swap_elements(my_list, index1, index2):\n",
    "    # Check if the indexes are within the range of the list\n",
    "    if 0 <= index1 < len(my_list) and 0 <= index2 < len(my_list):\n",
    "        # Swap the elements at the specified indexes\n",
    "        my_list[index1], my_list[index2] = my_list[index2], my_list[index1]\n",
    "        return True  # Swap successful\n",
    "    else:\n",
    "        return False  # Index out of range\n",
    "\n",
    "# Example usage:\n",
    "my_list = [3, 6, 2, 4, 23, 53, 14, 35, 79, 5]\n",
    "print(\"Original list:\", my_list)\n",
    "\n",
    "# Swap elements at indexes 2 and 7\n",
    "index1 = 2\n",
    "index2 = 7\n",
    "success = swap_elements(my_list, index1, index2)\n",
    "\n",
    "if success:\n",
    "    print(f\"List after swapping elements at indexes {index1} and {index2}:\", my_list)\n",
    "else:\n",
    "    print(\"Invalid indexes. No swap performed.\")\n"
   ]
  },
  {
   "cell_type": "code",
   "execution_count": 11,
   "id": "d9c89d3a",
   "metadata": {},
   "outputs": [
    {
     "name": "stdout",
     "output_type": "stream",
     "text": [
      "The new list containing all elements of the first list followed by all elements of the second.: [3, 6, 2, 4, 23, 53, 14, 35, 79, 5, 4, 8, 9, 6, 24, 54, 15, 56, 90, 6]\n"
     ]
    }
   ],
   "source": [
    "# Given lists\n",
    "list1 = [3, 6, 2, 4, 23, 53, 14, 35, 79, 5]\n",
    "list2 = [4, 8, 9, 6, 24, 54, 15, 56, 90, 6]\n",
    "\n",
    "# Concatenate the two lists\n",
    "new_list = list1 + list2\n",
    "\n",
    "# Display the result\n",
    "print(\"The new list containing all elements of the first list followed by all elements of the second.:\", new_list)"
   ]
  },
  {
   "cell_type": "code",
   "execution_count": 13,
   "id": "7c7f6017",
   "metadata": {},
   "outputs": [
    {
     "name": "stdout",
     "output_type": "stream",
     "text": [
      "The last index of 79 in the list is: 8\n"
     ]
    }
   ],
   "source": [
    "def find_last_index(my_list, value):\n",
    "    # Check if the value is present in the list\n",
    "    if value in my_list:\n",
    "        # Find the last index of the value in the list\n",
    "        last_index = len(my_list) - 1 - my_list[::-1].index(value)\n",
    "        return last_index\n",
    "    else:\n",
    "        return -1  # Value not found\n",
    "\n",
    "# Example usage:\n",
    "my_list = [3, 6, 2, 4, 23, 53, 14, 35, 79, 5]\n",
    "value_to_find = 79\n",
    "\n",
    "result = find_last_index(my_list, value_to_find)\n",
    "\n",
    "# Display the result\n",
    "print(f\"The last index of {value_to_find} in the list is:\", result)\n",
    "\n"
   ]
  },
  {
   "cell_type": "code",
   "execution_count": 14,
   "id": "2a265ed6",
   "metadata": {},
   "outputs": [
    {
     "name": "stdout",
     "output_type": "stream",
     "text": [
      "The range of values in the list is: 35\n"
     ]
    }
   ],
   "source": [
    "def calculate_range(my_list):\n",
    "    # Find the minimum and maximum values in the list\n",
    "    min_value = min(my_list)\n",
    "    max_value = max(my_list)\n",
    "\n",
    "    # Calculate the range\n",
    "    my_range = max_value - min_value + 1\n",
    "\n",
    "    return my_range\n",
    "\n",
    "# Example usage:\n",
    "my_list = [36, 12, 25, 19, 46, 31, 22]\n",
    "\n",
    "# Calculate and display the range\n",
    "result_range = calculate_range(my_list)\n",
    "print(\"The range of values in the list is:\", result_range)\n"
   ]
  },
  {
   "cell_type": "code",
   "execution_count": 15,
   "id": "51188680",
   "metadata": {},
   "outputs": [
    {
     "name": "stdout",
     "output_type": "stream",
     "text": [
      "The count of elements between 4 and 17 (inclusive) is: 4\n"
     ]
    }
   ],
   "source": [
    "def count_elements_in_range(my_list, min_value, max_value):\n",
    "    # Initialize a counter for elements within the range\n",
    "    count = 0\n",
    "\n",
    "    # Go through the list and count elements within the range\n",
    "    for num in my_list:\n",
    "        if min_value <= num <= max_value:\n",
    "            count += 1\n",
    "\n",
    "    return count\n",
    "\n",
    "# Example usage:\n",
    "my_list = [14, 1, 22, 17, 36, 7, -43, 5]\n",
    "min_value = 4\n",
    "max_value = 17\n",
    "\n",
    "# Calculate and display the count of elements within the range\n",
    "result_count = count_elements_in_range(my_list, min_value, max_value)\n",
    "print(f\"The count of elements between {min_value} and {max_value} (inclusive) is:\", result_count)\n"
   ]
  },
  {
   "cell_type": "code",
   "execution_count": 16,
   "id": "ee7b2716",
   "metadata": {},
   "outputs": [
    {
     "name": "stdout",
     "output_type": "stream",
     "text": [
      "Is list1 sorted? False\n",
      "Is list2 sorted? True\n"
     ]
    }
   ],
   "source": [
    "def is_sorted(my_list):\n",
    "    # Iterate through the list starting from the second element\n",
    "    for i in range(1, len(my_list)):\n",
    "        # Check if the current element is less than the previous one\n",
    "        if my_list[i] < my_list[i - 1]:\n",
    "            return False  # If true, the list is not sorted\n",
    "\n",
    "    return True  # If the loop completes without returning False, the list is sorted\n",
    "\n",
    "# Example usage:\n",
    "list1 = [16.1, 12.3, 22.2, 14.4]\n",
    "list2 = [1.5, 4.3, 7.0, 19.5, 25.1, 46.2]\n",
    "\n",
    "# Check if list1 is sorted\n",
    "result_list1 = is_sorted(list1)\n",
    "print(f\"Is list1 sorted? {result_list1}\")\n",
    "\n",
    "# Check if list2 is sorted\n",
    "result_list2 = is_sorted(list2)\n",
    "print(f\"Is list2 sorted? {result_list2}\")\n"
   ]
  },
  {
   "cell_type": "markdown",
   "id": "fa22c356",
   "metadata": {},
   "source": [
    "# Exercise 4.5"
   ]
  },
  {
   "cell_type": "code",
   "execution_count": 21,
   "id": "565b02bd",
   "metadata": {},
   "outputs": [
    {
     "name": "stdout",
     "output_type": "stream",
     "text": [
      "+ - - - - +\n",
      "\\         /\n",
      "/         \\\n",
      "\\         /\n",
      "/         \\\n",
      "\\         /\n",
      "/         \\\n",
      "+ - - - - +\n"
     ]
    }
   ],
   "source": [
    "# Task 1\n",
    "for i in range(1):\n",
    "    print(\"+ - - - - +\")\n",
    "    print(\"\\\\         /\")\n",
    "    print(\"/         \\\\\")\n",
    "    print(\"\\\\         /\")\n",
    "    print(\"/         \\\\\")\n",
    "    print(\"\\\\         /\")\n",
    "    print(\"/         \\\\\")\n",
    "print(\"+ - - - - +\")\n"
   ]
  },
  {
   "cell_type": "code",
   "execution_count": 22,
   "id": "9ff3c843",
   "metadata": {},
   "outputs": [
    {
     "name": "stdout",
     "output_type": "stream",
     "text": [
      "**********\n",
      "**********\n",
      "**********\n",
      "**********\n",
      "**********\n"
     ]
    }
   ],
   "source": [
    "# Task 2\n",
    "for i in range(5):\n",
    "    print(\"**********\")\n"
   ]
  },
  {
   "cell_type": "code",
   "execution_count": 23,
   "id": "f23ded32",
   "metadata": {},
   "outputs": [
    {
     "name": "stdout",
     "output_type": "stream",
     "text": [
      "1\n",
      "2\n",
      "3\n",
      "4\n",
      "5\n",
      "6\n",
      "2\n",
      "4\n",
      "6\n",
      "8\n",
      "10\n",
      "12\n",
      "4\n",
      "19\n",
      "34\n",
      "49\n",
      "64\n",
      "79\n",
      "50\n",
      "40\n",
      "30\n",
      "20\n",
      "10\n",
      "0\n",
      "-7\n",
      "-3\n",
      "1\n",
      "5\n",
      "9\n",
      "13\n",
      "97\n",
      "94\n",
      "91\n",
      "88\n",
      "85\n",
      "82\n",
      "-4\n",
      "14\n",
      "32\n",
      "50\n",
      "68\n",
      "86\n"
     ]
    }
   ],
   "source": [
    "# Task 3\n",
    "# a)\n",
    "for i in range(1, 7):\n",
    "    print(i)\n",
    "\n",
    "# b)\n",
    "for i in range(1, 7):\n",
    "    print(i * 2)\n",
    "\n",
    "# c)\n",
    "for i in range(1, 7):\n",
    "    print(i * 15 - 11)\n",
    "\n",
    "# d)\n",
    "for i in range(5, -1, -1):\n",
    "    print(i * 10)\n",
    "\n",
    "# e)\n",
    "for i in range(-7, 14, 4):\n",
    "    print(i)\n",
    "\n",
    "# f)\n",
    "for i in range(97, 81, -3):\n",
    "    print(i)\n",
    "\n",
    "# g)\n",
    "for i in range(-4, 91, 18):\n",
    "    print(i)\n"
   ]
  },
  {
   "cell_type": "code",
   "execution_count": 24,
   "id": "27eb4557",
   "metadata": {},
   "outputs": [
    {
     "name": "stdout",
     "output_type": "stream",
     "text": [
      "1\n",
      "22\n",
      "333\n",
      "4444\n",
      "55555\n",
      "666666\n",
      "7777777\n"
     ]
    }
   ],
   "source": [
    "# Task 4\n",
    "lines = 7\n",
    "for i in range(1, lines + 1):\n",
    "    print(str(i) * i)\n"
   ]
  },
  {
   "cell_type": "code",
   "execution_count": 25,
   "id": "737d3066",
   "metadata": {},
   "outputs": [
    {
     "name": "stdout",
     "output_type": "stream",
     "text": [
      "33.0\n"
     ]
    }
   ],
   "source": [
    "# Task 5\n",
    "def pay(salary, hours_worked):\n",
    "    if hours_worked > 8:\n",
    "        overtime_hours = hours_worked - 8\n",
    "        return (8 * salary) + (1.01 * salary * overtime_hours)\n",
    "    else:\n",
    "        return salary * hours_worked\n",
    "\n",
    "# Example usage:\n",
    "result_pay = pay(5.50, 6)\n",
    "print(result_pay)  # Output: 33.0\n"
   ]
  },
  {
   "cell_type": "code",
   "execution_count": 26,
   "id": "b424a4a6",
   "metadata": {},
   "outputs": [
    {
     "name": "stdout",
     "output_type": "stream",
     "text": [
      "12.566370614359172\n"
     ]
    }
   ],
   "source": [
    "# Task 6\n",
    "import math\n",
    "\n",
    "def area(radius):\n",
    "    return math.pi * radius**2\n",
    "\n",
    "# Example usage:\n",
    "result_area = area(2.0)\n",
    "print(result_area)  # Output: 12.566370614359172\n"
   ]
  },
  {
   "cell_type": "code",
   "execution_count": 30,
   "id": "f3ff2352",
   "metadata": {},
   "outputs": [
    {
     "name": "stdout",
     "output_type": "stream",
     "text": [
      "Low? 100\n",
      "High? 400\n",
      "Sum: 74850\n"
     ]
    }
   ],
   "source": [
    "# Task 7\n",
    "low = int(input(\"Low? \"))\n",
    "high = int(input(\"High? \"))\n",
    "total_sum = 0\n",
    "for i in range(low, high):\n",
    "    total_sum += i\n",
    "\n",
    "print(\"Sum:\", total_sum)\n"
   ]
  },
  {
   "cell_type": "code",
   "execution_count": 31,
   "id": "ab6aa3e7",
   "metadata": {},
   "outputs": [
    {
     "name": "stdout",
     "output_type": "stream",
     "text": [
      "Enter a number (type 0 to stop): 67\n",
      "Enter a number (type 0 to stop): 7765\n",
      "Enter a number (type 0 to stop): 2356\n",
      "Enter a number (type 0 to stop): 43\n",
      "Enter a number (type 0 to stop): 76\n",
      "Enter a number (type 0 to stop): 0\n",
      "Sum: 10307\n"
     ]
    }
   ],
   "source": [
    "# Task 8\n",
    "total_sum = 0\n",
    "while True:\n",
    "    number = int(input(\"Enter a number (type 0 to stop): \"))\n",
    "    if number == 0:\n",
    "        break\n",
    "    total_sum += number\n",
    "\n",
    "print(\"Sum:\", total_sum)\n"
   ]
  },
  {
   "cell_type": "code",
   "execution_count": 32,
   "id": "4af9bdc4",
   "metadata": {},
   "outputs": [
    {
     "name": "stdout",
     "output_type": "stream",
     "text": [
      "Enter a number (type -1 to stop): 45\n",
      "Enter a number (type -1 to stop): 65\n",
      "Enter a number (type -1 to stop): 654\n",
      "Enter a number (type -1 to stop): 9875\n",
      "Enter a number (type -1 to stop): -1\n",
      "Sum: 10639\n"
     ]
    }
   ],
   "source": [
    "# Task 9\n",
    "total_sum = 0\n",
    "while True:\n",
    "    number = int(input(\"Enter a number (type -1 to stop): \"))\n",
    "    if number == -1:\n",
    "        break\n",
    "    total_sum += number\n",
    "\n",
    "print(\"Sum:\", total_sum)\n"
   ]
  },
  {
   "cell_type": "code",
   "execution_count": 33,
   "id": "f3d42187",
   "metadata": {},
   "outputs": [
    {
     "name": "stdout",
     "output_type": "stream",
     "text": [
      "hellohellohello\n"
     ]
    }
   ],
   "source": [
    "# Task 10\n",
    "def repl(text, repetitions):\n",
    "    if repetitions <= 0:\n",
    "        return \"\"\n",
    "    else:\n",
    "        return text * repetitions\n",
    "\n",
    "# Example usage:\n",
    "result_repl = repl(\"hello\", 3)\n",
    "print(result_repl)  # Output: \"hello hello hello\"\n"
   ]
  },
  {
   "cell_type": "code",
   "execution_count": 34,
   "id": "f2b15149",
   "metadata": {},
   "outputs": [
    {
     "name": "stdout",
     "output_type": "stream",
     "text": [
      "2 3 4 5 6 7 19 18 17 16 15 14 13 12 11 5\n"
     ]
    }
   ],
   "source": [
    "# Task 11\n",
    "def primRange(start, end):\n",
    "    if start < end:\n",
    "        for i in range(start, end + 1):\n",
    "            print(i, end=\" \")\n",
    "    elif start > end:\n",
    "        for i in range(start, end - 1, -1):\n",
    "            print(i, end=\" \")\n",
    "    else:\n",
    "        print(start)\n",
    "\n",
    "# Example usage:\n",
    "primRange(2, 7)   # Output: 2 3 4 5 6 7\n",
    "primRange(19, 11)  # Output: 19 18 17 16 15 14 13 12 11\n",
    "primRange(5, 5)    # Output: 5\n"
   ]
  },
  {
   "cell_type": "code",
   "execution_count": 35,
   "id": "9ab4a8a3",
   "metadata": {},
   "outputs": [
    {
     "name": "stdout",
     "output_type": "stream",
     "text": [
      "How many numbers do you want to enter? 7\n",
      "Number 1: 12\n",
      "Number 2: 12\n",
      "Number 3: 34\n",
      "Number 4: 56\n",
      "Number 5: 78\n",
      "Number 6: 90\n",
      "Number 7: 44\n",
      "Smallest=12\n",
      "Largest=90\n"
     ]
    }
   ],
   "source": [
    "# Task 12\n",
    "def smallestLargest():\n",
    "    num_numbers = int(input(\"How many numbers do you want to enter? \"))\n",
    "    numbers = [int(input(f\"Number {i + 1}: \")) for i in range(num_numbers)]\n",
    "\n",
    "    smallest = min(numbers)\n",
    "    largest = max(numbers)\n",
    "\n",
    "    print(f\"Smallest={smallest}\")\n",
    "    print(f\"Largest={largest}\")\n",
    "\n",
    "# Example usage:\n",
    "smallestLargest()\n"
   ]
  },
  {
   "cell_type": "code",
   "execution_count": 36,
   "id": "35f1ccc9",
   "metadata": {},
   "outputs": [
    {
     "name": "stdout",
     "output_type": "stream",
     "text": [
      "Type a number: 56\n",
      "Type a number: 21\n",
      "Type a number: 76\n",
      "Type a number: 1\n",
      "Type a number: 98\n",
      "Type a number: 87\n",
      "Type a number: 456\n",
      "Type a number: 321\n",
      "Type a number: -3\n",
      "Average was 139.5\n"
     ]
    }
   ],
   "source": [
    "# Task 13\n",
    "def printAverage():\n",
    "    total_sum = 0\n",
    "    count = 0\n",
    "\n",
    "    while True:\n",
    "        number = int(input(\"Type a number: \"))\n",
    "        if number < 0:\n",
    "            break\n",
    "        total_sum += number\n",
    "        count += 1\n",
    "\n",
    "    if count > 0:\n",
    "        average = total_sum / count\n",
    "        print(f\"Average was {average}\")\n",
    "\n",
    "# Example usage:\n",
    "printAverage()\n"
   ]
  },
  {
   "cell_type": "code",
   "execution_count": 37,
   "id": "5d339d4e",
   "metadata": {},
   "outputs": [
    {
     "name": "stdout",
     "output_type": "stream",
     "text": [
      "3\n",
      "2\n"
     ]
    }
   ],
   "source": [
    "# Task 14\n",
    "def numUnique(a, b, c):\n",
    "    unique_numbers = len(set([a, b, c]))\n",
    "    return unique_numbers\n",
    "\n",
    "# Example usage:\n",
    "result_numUnique = numUnique(18, 3, 4)\n",
    "print(result_numUnique)  # Output: 3\n",
    "\n",
    "result_numUnique = numUnique(6, 7, 6)\n",
    "print(result_numUnique)  # Output: 2\n"
   ]
  },
  {
   "cell_type": "code",
   "execution_count": 38,
   "id": "2f1421f7",
   "metadata": {},
   "outputs": [
    {
     "name": "stdout",
     "output_type": "stream",
     "text": [
      "2+4=6\n",
      "2+3=5\n",
      "4+5=9\n",
      "1+5=6\n",
      "5+2=7\n",
      "You won after 5 tries!\n"
     ]
    }
   ],
   "source": [
    "# Task 15\n",
    "import random\n",
    "\n",
    "def dice_simulation():\n",
    "    tries = 0\n",
    "\n",
    "    while True:\n",
    "        dice1 = random.randint(1, 6)\n",
    "        dice2 = random.randint(1, 6)\n",
    "        combined_result = dice1 + dice2\n",
    "\n",
    "        print(f\"{dice1}+{dice2}={combined_result}\")\n",
    "\n",
    "        if combined_result == 7:\n",
    "            print(f\"You won after {tries + 1} tries!\")\n",
    "            break\n",
    "\n",
    "        tries += 1\n",
    "\n",
    "# Example usage:\n",
    "dice_simulation()\n"
   ]
  },
  {
   "cell_type": "code",
   "execution_count": null,
   "id": "6105f002",
   "metadata": {},
   "outputs": [],
   "source": []
  },
  {
   "cell_type": "code",
   "execution_count": null,
   "id": "7d118494",
   "metadata": {},
   "outputs": [],
   "source": []
  }
 ],
 "metadata": {
  "kernelspec": {
   "display_name": "Python 3",
   "language": "python",
   "name": "python3"
  },
  "language_info": {
   "codemirror_mode": {
    "name": "ipython",
    "version": 3
   },
   "file_extension": ".py",
   "mimetype": "text/x-python",
   "name": "python",
   "nbconvert_exporter": "python",
   "pygments_lexer": "ipython3",
   "version": "3.7.10"
  }
 },
 "nbformat": 4,
 "nbformat_minor": 5
}
